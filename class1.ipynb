{
 "cells": [
  {
   "cell_type": "markdown",
   "metadata": {},
   "source": [
    "# Intermediate Python: Programming\n",
    "\n",
    "# Class 1\n",
    "\n",
    "Welcome to Intermediate Python: Programming from [fredhutch.io](http://www.fredhutch.io)! \n",
    "This class assumes you've completed [Introduction to Python](https://github.com/fredhutchio/python_intro) from fredhutch.io,\n",
    "or have equivalent knowledge about Python as used for data analysis\n",
    "(basic syntax including variables and functions, \n",
    "importing data, data types and structures, subsetting data).\n",
    "This course continues to build on this framework.\n",
    "Please see our [software recommendations](http://www.fredhutch.io/software/#course-specific-software-requirements) prior to beginning these materials.\n",
    "\n",
    "By the end of this course,\n",
    "you should be able to create fully documented and automated workflows to perform data analysis tasks.\n",
    "\n",
    "We'll begin this class by reviewing a few basic features of Python relevant to data analysis: \n",
    "loading data, assigning to variables, and general syntax.\n",
    "By the end of this class,\n",
    "you should be able to:\n",
    "- use `numpy` to create and subset arrays and perform summary statistics\n",
    "- create plots with matplotlib\n",
    "- use for loops to repeat tasks across multiple data files\n",
    "\n",
    "## Getting set up\n",
    "\n",
    "We recommend using a project-oriented approach to organizing code for this course.\n",
    "Create a project directory called `python_programming/`\n",
    "to hold your data and scripts associated with this course.\n",
    "Create a new script or notebook inside that directory \n",
    "named `class1` to contain the material for this session.\n",
    "We recommend creating a new notebook for each separate class session.\n",
    "Keeping them all in the same directory will allow you to access the dataset we'll download in this class.\n",
    "\n",
    "Enter and execute the following code to access the packages we'll use to obtain the data:"
   ]
  },
  {
   "cell_type": "code",
   "execution_count": 1,
   "metadata": {},
   "outputs": [],
   "source": [
    "# load libraries\n",
    "import os\n",
    "import urllib.request\n",
    "import zipfile\n",
    "import numpy as np"
   ]
  },
  {
   "cell_type": "markdown",
   "metadata": {},
   "source": [
    "These libraries will be used for working with your operating system (`os`),\n",
    "downloading files from the internet (`urllib.request`),\n",
    "unzipping and extracting zipped files (`zipfile`),\n",
    "and accessing functions for scientific computing (`numpy`).\n",
    "\n",
    "We'll get started by downloading our data:"
   ]
  },
  {
   "cell_type": "code",
   "execution_count": 2,
   "metadata": {},
   "outputs": [],
   "source": [
    "# download data\n",
    "urllib.request.urlretrieve(\"http://swcarpentry.github.io/python-novice-inflammation/data/python-novice-inflammation-data.zip\", \"python-novice-inflammation-data.zip\")\n",
    "# unzip data\n",
    "zipData = zipfile.ZipFile(\"python-novice-inflammation-data.zip\")\n",
    "zipData.extractall()"
   ]
  },
  {
   "cell_type": "markdown",
   "metadata": {},
   "source": [
    "Once the files are extracted,\n",
    "you should see a new directory called `data/` in your project folder,\n",
    "as well as the original zipped file, `python-novice-inflammation-data.zip`.\n",
    "\n",
    "We'll be using [NumpPy](https://numpy.org) to load these data.\n",
    "This package includes provides a number of features useful for scientific computing,\n",
    "including importing data:"
   ]
  },
  {
   "cell_type": "code",
   "execution_count": 3,
   "metadata": {},
   "outputs": [],
   "source": [
    "# assign data to variable (so we can recall it later)\n",
    "data = np.loadtxt(fname=\"data/inflammation-01.csv\", delimiter=\",\")"
   ]
  },
  {
   "cell_type": "markdown",
   "metadata": {},
   "source": [
    "We've assigned these data to a variable named `data` so we can access them later. \n",
    "\n",
    "We'll now use some functions to assess the contents of this variable:"
   ]
  },
  {
   "cell_type": "code",
   "execution_count": 4,
   "metadata": {},
   "outputs": [
    {
     "name": "stdout",
     "output_type": "stream",
     "text": [
      "[[0. 0. 1. ... 3. 0. 0.]\n",
      " [0. 1. 2. ... 1. 0. 1.]\n",
      " [0. 1. 1. ... 2. 1. 1.]\n",
      " ...\n",
      " [0. 1. 1. ... 1. 1. 1.]\n",
      " [0. 0. 0. ... 0. 2. 0.]\n",
      " [0. 0. 1. ... 1. 1. 0.]]\n"
     ]
    }
   ],
   "source": [
    "# what is in the variable?\n",
    "print(data)"
   ]
  },
  {
   "cell_type": "markdown",
   "metadata": {},
   "source": [
    "If you're accustomed to working with data in spreadsheets and/or `pandas` data frames, \n",
    "this output may seem somewhat confusing.\n",
    "Let's use another function to learn more about the object:"
   ]
  },
  {
   "cell_type": "code",
   "execution_count": 5,
   "metadata": {},
   "outputs": [
    {
     "name": "stdout",
     "output_type": "stream",
     "text": [
      "<class 'numpy.ndarray'>\n"
     ]
    }
   ],
   "source": [
    "# identify data structure\n",
    "print(type(data))"
   ]
  },
  {
   "cell_type": "markdown",
   "metadata": {},
   "source": [
    "This output indicates that our data are structured as a [NumPy array](https://jakevdp.github.io/PythonDataScienceHandbook/02.02-the-basics-of-numpy-arrays.html), \n",
    "with `ndarray` referencing that such arrays can be n-dimensional \n",
    "(e.g., one, two, or three dimensions).\n",
    "\n",
    "> If you're working in a Jupyter notebook,\n",
    "> the last line of code is synonymous with `type(data)`.\n",
    "> Remember that this is a shortcut allowed by the notebook;\n",
    "> later in this class, \n",
    "> we'll be writing Python scripts that will require `print()` statements,\n",
    "> so we'll periodically apply them to ensure we can receive appropriate output later.\n",
    "\n",
    "Next, we'll investigate the shape (dimensions) of the data:"
   ]
  },
  {
   "cell_type": "code",
   "execution_count": 6,
   "metadata": {},
   "outputs": [
    {
     "name": "stdout",
     "output_type": "stream",
     "text": [
      "(60, 40)\n"
     ]
    }
   ],
   "source": [
    "# show shape of data\n",
    "print(data.shape)"
   ]
  },
  {
   "cell_type": "markdown",
   "metadata": {},
   "source": [
    "This output includes two values, \n",
    "indicating our data are two dimensional.\n",
    "This is analogous to spreadsheet-style data,\n",
    "which in this case, means we have 60 rows and 40 columns.\n",
    "\n",
    "we can ask what kind of data the array contains using the `dtype` attribute (or member):"
   ]
  },
  {
   "cell_type": "code",
   "execution_count": 7,
   "metadata": {},
   "outputs": [
    {
     "name": "stdout",
     "output_type": "stream",
     "text": [
      "float64\n"
     ]
    }
   ],
   "source": [
    "# identify data type (within array)\n",
    "print(data.dtype)"
   ]
  },
  {
   "cell_type": "markdown",
   "metadata": {},
   "source": [
    "The output above indicates these are float data,\n",
    "which represent numerical values which include decimal points.\n",
    "\n",
    "These values represent research data from a study on inflammation in patients associated with a new treatment for arthritis.\n",
    "**Rows** represent data from a single patient, \n",
    "while **columns** represent days sampled.\n",
    "Each number represents a measurement of the level of inflammation experienced by a patient each day \n",
    "(higher numbers mean more inflammation). \n",
    "\n",
    "Throughout this course, \n",
    "we'll be working with these data to calculate summary statistics and visualize the data.\n",
    "Morevoer, we'll need to determine whether there have been errors in data entry,\n",
    "and also apply all analyses across a collection of similar datasets (in other files). \n",
    "\n",
    "> These data are derived from the Software Carpentry [Programming with Python](https://swcarpentry.github.io/python-novice-inflammation/) lesson,\n",
    "> and represent synthetic data created specifically for training purposes.\n",
    "\n",
    "#### Challenge-import \n",
    "\n",
    "Import `small-01.csv` (included in your `data/` directory) \n",
    "and determine if these data differ in type or shape from our existing `data` object.\n",
    "\n",
    "## Manipulating arrays\n",
    "\n",
    "Now that we've taken a look at the basic organization of our array,\n",
    "we can start to review methods for referencing portions of the data:"
   ]
  },
  {
   "cell_type": "code",
   "execution_count": 8,
   "metadata": {},
   "outputs": [
    {
     "name": "stdout",
     "output_type": "stream",
     "text": [
      "0.0\n"
     ]
    }
   ],
   "source": [
    "# extract or reference first element in array\n",
    "print(data[0, 0])"
   ]
  },
  {
   "cell_type": "markdown",
   "metadata": {},
   "source": [
    "This should be familiar if you've worked with `pandas` data frames:\n",
    "the first value input in square brackets is the row index, \n",
    "and the second value is the column index."
   ]
  },
  {
   "cell_type": "code",
   "execution_count": 9,
   "metadata": {},
   "outputs": [
    {
     "name": "stdout",
     "output_type": "stream",
     "text": [
      "middle value in the data: 13.0\n"
     ]
    }
   ],
   "source": [
    "# extract middle value from array\n",
    "print(\"middle value in the data:\", data[30, 20]) "
   ]
  },
  {
   "cell_type": "markdown",
   "metadata": {},
   "source": [
    "The example above includes a label in the print statement\n",
    "so the output is recognizable.\n",
    "\n",
    "We can also reference a portion of the data using ranges,\n",
    "and also include empty start and end bounds \n",
    "(to suggest the beginning or end of the data, respectively)."
   ]
  },
  {
   "cell_type": "code",
   "execution_count": 10,
   "metadata": {},
   "outputs": [
    {
     "data": {
      "text/plain": [
       "array([[2., 3., 0., 0.],\n",
       "       [1., 1., 0., 1.],\n",
       "       [2., 2., 1., 1.]])"
      ]
     },
     "execution_count": 10,
     "metadata": {},
     "output_type": "execute_result"
    }
   ],
   "source": [
    "# slicing data\n",
    "data[:3, 36:]"
   ]
  },
  {
   "cell_type": "markdown",
   "metadata": {},
   "source": [
    "We can apply slicing by first highlighting values in the original dataset:"
   ]
  },
  {
   "cell_type": "code",
   "execution_count": 11,
   "metadata": {},
   "outputs": [
    {
     "data": {
      "text/plain": [
       "array([[0., 0., 1., 3., 1., 2., 4., 7., 8., 3.],\n",
       "       [0., 1., 2., 1., 2., 1., 3., 2., 2., 6.],\n",
       "       [0., 1., 1., 3., 3., 2., 6., 2., 5., 9.],\n",
       "       [0., 0., 2., 0., 4., 2., 2., 1., 6., 7.]])"
      ]
     },
     "execution_count": 11,
     "metadata": {},
     "output_type": "execute_result"
    }
   ],
   "source": [
    "# view slice of original data\n",
    "data[0:4, 0:10]"
   ]
  },
  {
   "cell_type": "markdown",
   "metadata": {},
   "source": [
    "Next, we'll perform multiple the entire array by a consistent value:"
   ]
  },
  {
   "cell_type": "code",
   "execution_count": 12,
   "metadata": {},
   "outputs": [
    {
     "data": {
      "text/plain": [
       "array([[ 0.,  0.,  2.,  6.,  2.,  4.,  8., 14., 16.,  6.],\n",
       "       [ 0.,  2.,  4.,  2.,  4.,  2.,  6.,  4.,  4., 12.],\n",
       "       [ 0.,  2.,  2.,  6.,  6.,  4., 12.,  4., 10., 18.],\n",
       "       [ 0.,  0.,  4.,  0.,  8.,  4.,  4.,  2., 12., 14.]])"
      ]
     },
     "execution_count": 12,
     "metadata": {},
     "output_type": "execute_result"
    }
   ],
   "source": [
    "# multiple entire array and view a slice\n",
    "doubledata = data * 2.0\n",
    "doubledata[0:4, 0:10]"
   ]
  },
  {
   "cell_type": "markdown",
   "metadata": {},
   "source": [
    "A comparison between the same slice from `data` and `doubledata` shows the results we expect.\n",
    "\n",
    "If we perform a different type of math:"
   ]
  },
  {
   "cell_type": "code",
   "execution_count": 13,
   "metadata": {},
   "outputs": [
    {
     "data": {
      "text/plain": [
       "array([[ 0.,  0.,  3.,  9.,  3.,  6., 12., 21., 24.,  9.],\n",
       "       [ 0.,  3.,  6.,  3.,  6.,  3.,  9.,  6.,  6., 18.],\n",
       "       [ 0.,  3.,  3.,  9.,  9.,  6., 18.,  6., 15., 27.],\n",
       "       [ 0.,  0.,  6.,  0., 12.,  6.,  6.,  3., 18., 21.]])"
      ]
     },
     "execution_count": 13,
     "metadata": {},
     "output_type": "execute_result"
    }
   ],
   "source": [
    "# add arrays together\n",
    "tripledata = doubledata + data\n",
    "tripledata[0:4, 0:10]"
   ]
  },
  {
   "cell_type": "markdown",
   "metadata": {},
   "source": [
    "The results here are also what we expect from adding each set of values together in the two arrays.\n",
    "\n",
    "Finally, NumPy includes a variety of methods to perform summary statistics:"
   ]
  },
  {
   "cell_type": "code",
   "execution_count": 14,
   "metadata": {},
   "outputs": [
    {
     "data": {
      "text/plain": [
       "6.14875"
      ]
     },
     "execution_count": 14,
     "metadata": {},
     "output_type": "execute_result"
    }
   ],
   "source": [
    "# perform summaries across entire array\n",
    "np.mean(data)"
   ]
  },
  {
   "cell_type": "markdown",
   "metadata": {},
   "source": [
    "#### Challenge-stats \n",
    "\n",
    "Find the maximum, minimum, and standard deviation across the entire array `data`, reported with meaningful print statements.\n",
    "\n",
    "While it is possible, \n",
    "and sometimes desirable,\n",
    "to perform each of these operations in separate lines of code,\n",
    "Python also allows multiple assignment:\n",
    "assigning multiple variables in one line of code."
   ]
  },
  {
   "cell_type": "code",
   "execution_count": 15,
   "metadata": {},
   "outputs": [
    {
     "name": "stdout",
     "output_type": "stream",
     "text": [
      "4.613833197118566\n"
     ]
    }
   ],
   "source": [
    "# multiple assignment: assign multiple variables at a once\n",
    "maxval, minval, stdval = np.max(data), np.min(data), np.std(data)\n",
    "print(stdval)"
   ]
  },
  {
   "cell_type": "markdown",
   "metadata": {},
   "source": [
    "The examples above are summarizing across the entire array,\n",
    "which means all patients and all days.\n",
    "If you wanted to obtain the mean for each day, \n",
    "you could apply an argument to specify axis:"
   ]
  },
  {
   "cell_type": "code",
   "execution_count": 16,
   "metadata": {},
   "outputs": [
    {
     "data": {
      "text/plain": [
       "array([ 0.        ,  0.45      ,  1.11666667,  1.75      ,  2.43333333,\n",
       "        3.15      ,  3.8       ,  3.88333333,  5.23333333,  5.51666667,\n",
       "        5.95      ,  5.9       ,  8.35      ,  7.73333333,  8.36666667,\n",
       "        9.5       ,  9.58333333, 10.63333333, 11.56666667, 12.35      ,\n",
       "       13.25      , 11.96666667, 11.03333333, 10.16666667, 10.        ,\n",
       "        8.66666667,  9.15      ,  7.25      ,  7.33333333,  6.58333333,\n",
       "        6.06666667,  5.95      ,  5.11666667,  3.6       ,  3.3       ,\n",
       "        3.56666667,  2.48333333,  1.5       ,  1.13333333,  0.56666667])"
      ]
     },
     "execution_count": 16,
     "metadata": {},
     "output_type": "execute_result"
    }
   ],
   "source": [
    "# summarize by day\n",
    "np.mean(data, axis=0)"
   ]
  },
  {
   "cell_type": "markdown",
   "metadata": {},
   "source": [
    "`axis=0` means to summarize across rows, \n",
    "so each value represents the mean for a single day assessed. \n",
    "Alterntively,\n",
    "`axis=1` would summarize by patient.\n",
    "If this seems difficult to understand,\n",
    "you're not alone! \n",
    "[This blog post](https://www.sharpsightlabs.com/blog/numpy-axes-explained/) does a good job illustrating how axes work.\n",
    "\n",
    "It's hard to tell from the output whether we're getting the information we desire,\n",
    "but we can confirm we're obtaining the correct number of values:"
   ]
  },
  {
   "cell_type": "code",
   "execution_count": 17,
   "metadata": {},
   "outputs": [
    {
     "data": {
      "text/plain": [
       "(40,)"
      ]
     },
     "execution_count": 17,
     "metadata": {},
     "output_type": "execute_result"
    }
   ],
   "source": [
    "# shape of output\n",
    "np.mean(data, axis=0).shape"
   ]
  },
  {
   "cell_type": "markdown",
   "metadata": {},
   "source": [
    "There are 40 values in the output, \n",
    "which corresponds to the number of days in the dataset, \n",
    "indicating we've calculated the mean by day.\n",
    "\n",
    "## Visualizing data\n",
    "\n",
    "Now that we've acquainted ourselves with arrays,\n",
    "and reviewed some basic data manipulation tasks,\n",
    "we can visualize our data.\n",
    "\n",
    "First, we'll load the library:"
   ]
  },
  {
   "cell_type": "code",
   "execution_count": 18,
   "metadata": {},
   "outputs": [],
   "source": [
    "import matplotlib.pyplot as plt"
   ]
  },
  {
   "cell_type": "markdown",
   "metadata": {},
   "source": [
    "Then we can create the plot,\n",
    "with a basic plot being presented as a heatmap\n"
   ]
  },
  {
   "cell_type": "code",
   "execution_count": 19,
   "metadata": {},
   "outputs": [
    {
     "data": {
      "image/png": "[encoded data removed]",
      "text/plain": [
       "<Figure size 432x288 with 1 Axes>"
      ]
     },
     "metadata": {},
     "output_type": "display_data"
    }
   ],
   "source": [
    "image = plt.imshow(data)\n",
    "plt.show()"
   ]
  },
  {
   "cell_type": "markdown",
   "metadata": {},
   "source": [
    "In the code above,\n",
    "the first line draws the image,\n",
    "while the second line instructs the plot to be shown.\n",
    "Depending on your Python interpreter \n",
    "(the interface in which you're executing Python code),\n",
    "you may not need to include the second line (`plt.show()`). \n",
    "Moreover, \n",
    "some interpreters (like Jupyter notebook)\n",
    "will allow you to execute only `plt.imshow(data)` \n",
    "in order for the plot to appear.\n",
    "\n",
    "The default plot shown above is a 2D raster,\n",
    "since the array is two-dimensional. \n",
    "Blue pixels represent low values;\n",
    "yellow represents high values.\n",
    "Since the x axis represents days\n",
    "and the y axis are individual patients, \n",
    "we can conclude that inflammation generally rises and falls over the 40-day period.\n",
    "\n",
    "We could also view average inflammation over time: "
   ]
  },
  {
   "cell_type": "code",
   "execution_count": 20,
   "metadata": {},
   "outputs": [
    {
     "data": {
      "image/png": "[encoded data removed]",
      "text/plain": [
       "<Figure size 432x288 with 1 Axes>"
      ]
     },
     "metadata": {},
     "output_type": "display_data"
    }
   ],
   "source": [
    "# plot average inflammation over time \n",
    "ave_inflammation = np.mean(data, axis=0)\n",
    "plt.plot(ave_inflammation)\n",
    "plt.show()"
   ]
  },
  {
   "cell_type": "markdown",
   "metadata": {},
   "source": [
    "#### Challenge-data \n",
    "\n",
    "Plot the maximum and minimum inflammation across all patients for `data`. \n",
    "What can you conclude about the validity of the data based on these plots?\n",
    "\n",
    "So far, we've shown each individual plot by itself.\n",
    "If we wanted to show the collection of plots together,\n",
    "we would need to restructure our code. \n",
    "\n",
    "#### Challenge-comment\n",
    "\n",
    "Look at the code below and include a comment for each new function or argument you see."
   ]
  },
  {
   "cell_type": "code",
   "execution_count": 21,
   "metadata": {},
   "outputs": [
    {
     "data": {
      "image/png": "[encoded data removed]",
      "text/plain": [
       "<Figure size 720x216 with 3 Axes>"
      ]
     },
     "metadata": {},
     "output_type": "display_data"
    }
   ],
   "source": [
    "import numpy as np\n",
    "import matplotlib.pyplot as plt\n",
    "\n",
    "data = np.loadtxt(fname='data/inflammation-01.csv', delimiter=',')\n",
    "\n",
    "fig = plt.figure(figsize=(10.0, 3.0))\n",
    "\n",
    "axes1 = fig.add_subplot(1, 3, 1)\n",
    "axes2 = fig.add_subplot(1, 3, 2)\n",
    "axes3 = fig.add_subplot(1, 3, 3)\n",
    "\n",
    "axes1.set_ylabel('average')\n",
    "axes1.plot(np.mean(data, axis=0))\n",
    "\n",
    "axes2.set_ylabel('max')\n",
    "axes2.plot(np.max(data, axis=0))\n",
    "\n",
    "axes3.set_ylabel('min')\n",
    "axes3.plot(np.min(data, axis=0))\n",
    "\n",
    "fig.tight_layout()\n",
    "\n",
    "plt.show()"
   ]
  },
  {
   "cell_type": "markdown",
   "metadata": {},
   "source": [
    "## Repeating actions with loops\n",
    "\n",
    "The code we've written so far works well for a single dataset. \n",
    "What if we wanted to repeat the same plotting across all data files? \n",
    "How many lines of code would it take given the methods used so far?\n",
    "\n",
    "We'll be reviewing a programming structure called for loops,\n",
    "and then apply this method to accessing multiple data files.\n",
    "First, we'll explore for loops using a simple example:\n",
    "accessing elements in a variable.\n",
    "Let's get started by creating a new variable:"
   ]
  },
  {
   "cell_type": "code",
   "execution_count": 22,
   "metadata": {},
   "outputs": [
    {
     "data": {
      "text/plain": [
       "'hutchinson'"
      ]
     },
     "execution_count": 22,
     "metadata": {},
     "output_type": "execute_result"
    }
   ],
   "source": [
    "# create a variable for a word\n",
    "word = \"hutchinson\"\n",
    "word"
   ]
  },
  {
   "cell_type": "markdown",
   "metadata": {},
   "source": [
    "We can access each element (letter) our string object by index position:"
   ]
  },
  {
   "cell_type": "code",
   "execution_count": 23,
   "metadata": {},
   "outputs": [
    {
     "name": "stdout",
     "output_type": "stream",
     "text": [
      "first letter = h\n",
      "last letter = n\n"
     ]
    }
   ],
   "source": [
    "print(\"first letter =\", word[0])\n",
    "print(\"last letter =\", word[9])"
   ]
  },
  {
   "cell_type": "markdown",
   "metadata": {},
   "source": [
    "This works fine when our word remains the same. \n",
    "What happens, though, when we change the word?"
   ]
  },
  {
   "cell_type": "code",
   "execution_count": 24,
   "metadata": {},
   "outputs": [],
   "source": [
    "word = \"hutch\""
   ]
  },
  {
   "cell_type": "markdown",
   "metadata": {},
   "source": [
    "We can still access `word[0]`, \n",
    "but Python returns an `IndexError` for `word[9]`,\n",
    "since that element doesn't exist in our shortened word.\n",
    "\n",
    "A for loop allows us to access each element in a set \n",
    "(in this case, a word)\n",
    "one at a time."
   ]
  },
  {
   "cell_type": "code",
   "execution_count": 25,
   "metadata": {},
   "outputs": [
    {
     "name": "stdout",
     "output_type": "stream",
     "text": [
      "h\n",
      "u\n",
      "t\n",
      "c\n",
      "h\n"
     ]
    }
   ],
   "source": [
    "# for loop to print characters in a word\n",
    "for char in word:\n",
    "    print(char)"
   ]
  },
  {
   "cell_type": "markdown",
   "metadata": {},
   "source": [
    "> In some interpreters, you may need to experiment how to best execute multi-line code chunks. \n",
    "> Usually placing your cursor on the first line,\n",
    "> or selecting the entire code chunk,\n",
    "> is sufficient.\n",
    "\n",
    "For loops have a predictable structure: \n",
    "\n",
    "```python\n",
    "for VARIABLE in SET:\n",
    "    ACTION\n",
    "```\n",
    "\n",
    "`VARIABLE` represents a variable name internal to the for loop.\n",
    "`SET` represents the collection from which you are accessing elements.\n",
    "`ACTION` is the specific task you want completed for each element.\n",
    "\n",
    "In our example above, \n",
    "note that we must include a `print()` statement for the values to appear in the output. \n",
    "\n",
    "Because for loops repeat across the entire collection,\n",
    "this structure is not dependent on the length of the collection.\n",
    "\n",
    "#### Challenge-vowels\n",
    "\n",
    "Given the following code,\n",
    "replace `ACTION` with code that will allow you to count the number of vowels.\n",
    "\n",
    "```python\n",
    "length = 0\n",
    "for vowel in \"aeiou\":\n",
    "    ACTION\n",
    "print(\"There are\", length, \"vowels\")\n",
    "```\n",
    "\n",
    "Before we can apply for loops to working with multiple files,\n",
    "we should explore working with filenames using `glob`:"
   ]
  },
  {
   "cell_type": "code",
   "execution_count": 26,
   "metadata": {},
   "outputs": [
    {
     "data": {
      "text/plain": [
       "['data/inflammation-05.csv',\n",
       " 'data/inflammation-11.csv',\n",
       " 'data/inflammation-10.csv',\n",
       " 'data/inflammation-04.csv',\n",
       " 'data/inflammation-12.csv',\n",
       " 'data/inflammation-06.csv',\n",
       " 'data/inflammation-07.csv',\n",
       " 'data/inflammation-03.csv',\n",
       " 'data/inflammation-02.csv',\n",
       " 'data/inflammation-01.csv',\n",
       " 'data/inflammation-09.csv',\n",
       " 'data/inflammation-08.csv']"
      ]
     },
     "execution_count": 26,
     "metadata": {},
     "output_type": "execute_result"
    }
   ],
   "source": [
    "# create collection of file names\n",
    "import glob\n",
    "\n",
    "glob.glob(\"data/inflammation*.csv\")"
   ]
  },
  {
   "cell_type": "markdown",
   "metadata": {},
   "source": [
    "We've applied an asterisk (`*`) as a wildcard,\n",
    "which means we'll find any files in the `data/` directory\n",
    "that begin with `inflammation` and end with `.csv`.\n",
    "\n",
    "We can use `glob` to create a list of filenames:"
   ]
  },
  {
   "cell_type": "code",
   "execution_count": 27,
   "metadata": {},
   "outputs": [
    {
     "data": {
      "text/plain": [
       "['data/inflammation-01.csv',\n",
       " 'data/inflammation-02.csv',\n",
       " 'data/inflammation-03.csv',\n",
       " 'data/inflammation-04.csv',\n",
       " 'data/inflammation-05.csv',\n",
       " 'data/inflammation-06.csv',\n",
       " 'data/inflammation-07.csv',\n",
       " 'data/inflammation-08.csv',\n",
       " 'data/inflammation-09.csv',\n",
       " 'data/inflammation-10.csv',\n",
       " 'data/inflammation-11.csv',\n",
       " 'data/inflammation-12.csv']"
      ]
     },
     "execution_count": 27,
     "metadata": {},
     "output_type": "execute_result"
    }
   ],
   "source": [
    "# create a list of files\n",
    "filenames = sorted(glob.glob(\"data/inflammation*.csv\")) \n",
    "filenames"
   ]
  },
  {
   "cell_type": "markdown",
   "metadata": {},
   "source": [
    "In the example above, \n",
    "we've sorted the list to make the filenames appear in numerical order.\n",
    "\n",
    "We can then use a for loop to access each file:"
   ]
  },
  {
   "cell_type": "code",
   "execution_count": 28,
   "metadata": {},
   "outputs": [
    {
     "name": "stdout",
     "output_type": "stream",
     "text": [
      "data/inflammation-01.csv\n",
      "data/inflammation-02.csv\n",
      "data/inflammation-03.csv\n",
      "data/inflammation-04.csv\n",
      "data/inflammation-05.csv\n",
      "data/inflammation-06.csv\n",
      "data/inflammation-07.csv\n",
      "data/inflammation-08.csv\n",
      "data/inflammation-09.csv\n",
      "data/inflammation-10.csv\n",
      "data/inflammation-11.csv\n",
      "data/inflammation-12.csv\n"
     ]
    }
   ],
   "source": [
    "# loop across all filenames\n",
    "for f in filenames:\n",
    "    print(f)"
   ]
  },
  {
   "cell_type": "markdown",
   "metadata": {},
   "source": [
    "#### Challenge-files \n",
    "\n",
    "Do all of the data files contain the same amount of data \n",
    "(i.e., same number of elements)?\n",
    "Write a for loop that assesses the shape of each file.\n",
    "\n",
    "#### Challenge-apply\n",
    "\n",
    "*Optional, covered at beginning of class 2:* Place our plotting code for the inflammation data in a loop so it will run across all data files.\n",
    "\n",
    "## Wrapping up\n",
    "\n",
    "These materials reviewed Python basics while introducing NumPy arrays.\n",
    "We also covered plotting with matplotlib and repeating actions across multiple files using for loops.\n",
    "\n",
    "In the next session, \n",
    "we'll explore conditional statements as a way to control whether Python executes our code, \n",
    "and also explore writing our own functions.\n",
    "Along the way, we'll continue applying these skills to our inflammation data.\n",
    "\n",
    "Answers to challenge questions are available in the [`solutions/`](solutions) directory."
   ]
  },
  {
   "cell_type": "code",
   "execution_count": null,
   "metadata": {},
   "outputs": [],
   "source": []
  }
 ],
 "metadata": {
  "kernelspec": {
   "display_name": "Python 3",
   "language": "python",
   "name": "python3"
  },
  "language_info": {
   "codemirror_mode": {
    "name": "ipython",
    "version": 3
   },
   "file_extension": ".py",
   "mimetype": "text/x-python",
   "name": "python",
   "nbconvert_exporter": "python",
   "pygments_lexer": "ipython3",
   "version": "3.6.8"
  }
 },
 "nbformat": 4,
 "nbformat_minor": 2
}
