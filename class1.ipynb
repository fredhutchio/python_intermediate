{
 "cells": [
  {
   "cell_type": "markdown",
   "metadata": {},
   "source": [
    "# Intermediate Python: Programming\n",
    "# Class 1: Review, getting set up, and working with multiple files\n",
    "\n",
    "Welcome to Intermediate Python: Programming from fredhutch.io! \n",
    "This class assumes you've completed Introduction to Python from fredhutch.io,\n",
    "or have equivalent knowledge about Python as used for data analysis.\n",
    "This course continues to build on this framework.\n",
    "By the end of this course,\n",
    "you should be able to create fully documented and automated workflows to perform data analysis tasks.\n",
    "\n",
    "We'll begin this class by reviewing a few basic features of Python relevant to data analysis: \n",
    "loading data, assigning to variables, and general syntax.\n",
    "By the end of this class,\n",
    "you should be able to:\n",
    "- use `numpy` to create and subset arrays and perform summary statistics\n",
    "- create plots with matplotlib\n",
    "- use for loops to repeat tasks across multiple data files\n",
    "\n",
    "## Getting set up"
   ]
  },
  {
   "cell_type": "code",
   "execution_count": null,
   "metadata": {},
   "outputs": [],
   "source": [
    "# load libraries\n",
    "import os\n",
    "import urllib.request\n",
    "import zipfile\n",
    "import numpy"
   ]
  },
  {
   "cell_type": "markdown",
   "metadata": {},
   "source": [
    "about each library"
   ]
  },
  {
   "cell_type": "code",
   "execution_count": null,
   "metadata": {},
   "outputs": [],
   "source": [
    "# download data\n",
    "urllib.request.urlretrieve(\"http://swcarpentry.github.io/python-novice-inflammation/data/python-novice-inflammation-data.zip\", \"python-novice-inflammation-data.zip\")\n",
    "# unzip data\n",
    "zipData = zipfile.ZipFile(\"python-novice-inflammation-data.zip\")\n",
    "zipData.extractall()"
   ]
  },
  {
   "cell_type": "markdown",
   "metadata": {},
   "source": [
    "view data in directory"
   ]
  },
  {
   "cell_type": "code",
   "execution_count": null,
   "metadata": {},
   "outputs": [],
   "source": [
    "# assign data to variable (so we can recall it later)\n",
    "data = numpy.loadtxt(fname=\"data/inflammation-01.csv\", delimiter=\",\")"
   ]
  },
  {
   "cell_type": "markdown",
   "metadata": {},
   "source": [
    "importing data and assigning to variable so we can recall it later\n",
    "\n",
    "numpy methods"
   ]
  },
  {
   "cell_type": "code",
   "execution_count": null,
   "metadata": {},
   "outputs": [],
   "source": [
    "# what is in the variable?\n",
    "print(data)"
   ]
  },
  {
   "cell_type": "code",
   "execution_count": null,
   "metadata": {},
   "outputs": [],
   "source": [
    "# what type of thing is data?\n",
    "print(type(data))"
   ]
  },
  {
   "cell_type": "markdown",
   "metadata": {},
   "source": [
    "relate to shortcut: `type(data)`"
   ]
  },
  {
   "cell_type": "code",
   "execution_count": null,
   "metadata": {},
   "outputs": [],
   "source": [
    "# what type of data is contained within the array?\n",
    "data.dtype"
   ]
  },
  {
   "cell_type": "code",
   "execution_count": null,
   "metadata": {},
   "outputs": [],
   "source": [
    "# show shape of data\n",
    "data.shape"
   ]
  },
  {
   "cell_type": "markdown",
   "metadata": {},
   "source": [
    "output is rows, columns; rows are the individual patients, and the columns are their daily inflammation measurements\n",
    "\n",
    "arrays have members, or attributes, which use the dot nomenclature because they have the same part-and-whole relationship"
   ]
  },
  {
   "cell_type": "markdown",
   "metadata": {},
   "source": [
    "**Challenge:** import small-01.csv and determine if the type or shape of data differ from data object\n",
    "\n",
    "## Manipulating arrays"
   ]
  },
  {
   "cell_type": "code",
   "execution_count": null,
   "metadata": {},
   "outputs": [],
   "source": [
    "# extract or reference first element in array\n",
    "data[0, 0]"
   ]
  },
  {
   "cell_type": "markdown",
   "metadata": {},
   "source": [
    "row index, column index; python index starts at 0"
   ]
  },
  {
   "cell_type": "code",
   "execution_count": null,
   "metadata": {},
   "outputs": [],
   "source": [
    "# extract middle value\n",
    "data[30, 20]\n",
    "print(\"middle value in the data:\", data[30, 20]) "
   ]
  },
  {
   "cell_type": "markdown",
   "metadata": {},
   "source": [
    "include in prettier print statement"
   ]
  },
  {
   "cell_type": "code",
   "execution_count": null,
   "metadata": {},
   "outputs": [],
   "source": [
    "# slicing data\n",
    "data[0:4, 0:10] # end bounds not inclusive\n",
    "data[:3, 36:] # empty values mean beginning or end"
   ]
  },
  {
   "cell_type": "code",
   "execution_count": null,
   "metadata": {},
   "outputs": [],
   "source": [
    "# perform math on an entire array\n",
    "doubledata = data * 2.0\n",
    "doubledata[0:4, 0:10]\n",
    "data[0:4, 0:10] # compare with original"
   ]
  },
  {
   "cell_type": "code",
   "execution_count": null,
   "metadata": {},
   "outputs": [],
   "source": [
    "# add arrays together\n",
    "tripledata = doubledata + data\n",
    "tripledata[0:4, 0:10]"
   ]
  },
  {
   "cell_type": "code",
   "execution_count": null,
   "metadata": {},
   "outputs": [],
   "source": [
    "# perform summaries across entire array\n",
    "print(numpy.mean(data))"
   ]
  },
  {
   "cell_type": "markdown",
   "metadata": {},
   "source": [
    "**Challenge:** find max, min, standard deviation across the entire array data, and print with meaningful print statements"
   ]
  },
  {
   "cell_type": "code",
   "execution_count": null,
   "metadata": {},
   "outputs": [],
   "source": [
    "# multiple assignment: assign multiple variables at a once\n",
    "maxval, minval, stdval = numpy.max(data), numpy.min(data), numpy.std(data)\n",
    "print(stdval)"
   ]
  },
  {
   "cell_type": "code",
   "execution_count": null,
   "metadata": {},
   "outputs": [],
   "source": [
    "# specify a certain axis to summarize (0 means rows, summarize by day)\n",
    "numpy.mean(data, axis=0)"
   ]
  },
  {
   "cell_type": "code",
   "execution_count": null,
   "metadata": {},
   "outputs": [],
   "source": [
    "# check shape of output\n",
    "numpy.mean(data, axis=0).shape # 40 values, this is number of days"
   ]
  },
  {
   "cell_type": "markdown",
   "metadata": {},
   "source": [
    "axis = 1 this summarizes across patients\n",
    "\n",
    "## Visualizing data"
   ]
  },
  {
   "cell_type": "code",
   "execution_count": null,
   "metadata": {},
   "outputs": [],
   "source": [
    "import matplotlib.pyplot\n",
    "%matplotlib inline"
   ]
  },
  {
   "cell_type": "code",
   "execution_count": null,
   "metadata": {},
   "outputs": [],
   "source": [
    "image = matplotlib.pyplot.imshow(data) # im is image, 2D raster"
   ]
  },
  {
   "cell_type": "code",
   "execution_count": null,
   "metadata": {},
   "outputs": [],
   "source": [
    "matplotlib.pyplot.show() # not always needed; shortcut allowed because of interface/interpreter\n",
    "matplotlib.pyplot.imshow(data) # another shortcut!"
   ]
  },
  {
   "cell_type": "code",
   "execution_count": null,
   "metadata": {},
   "outputs": [],
   "source": [
    "# plot inflammation over time as average across all patients\n",
    "ave_inflammation = numpy.mean(data, axis=0)\n",
    "matplotlib.pyplot.plot(ave_inflammation)"
   ]
  },
  {
   "cell_type": "markdown",
   "metadata": {},
   "source": [
    "**Challenge:** using one line of code, print the maximum inflammation across all patients\n",
    "\n",
    "## Repeating actions with loops\n",
    "\n",
    "what if we wanted to repeat plotting across all data files? how many lines of code would it take given the methods used so far?"
   ]
  },
  {
   "cell_type": "code",
   "execution_count": null,
   "metadata": {},
   "outputs": [],
   "source": [
    "# there are multiple ways to show what is contained in a variable\n",
    "# create a variable for a word\n",
    "word = \"hutchinson\"\n",
    "word\n",
    "word[0]\n",
    "word[7]"
   ]
  },
  {
   "cell_type": "code",
   "execution_count": null,
   "metadata": {},
   "outputs": [],
   "source": [
    "# what if we change word?\n",
    "word = \"hutch\"\n",
    "word[0]"
   ]
  },
  {
   "cell_type": "code",
   "execution_count": null,
   "metadata": {},
   "outputs": [],
   "source": [
    "#word[7] # index error: there is no index 7 in word now!"
   ]
  },
  {
   "cell_type": "code",
   "execution_count": null,
   "metadata": {},
   "outputs": [],
   "source": [
    "# for loop: accesses items in a set\n",
    "for char in word: # need to execute on top line of for loop in some interpreters!\n",
    "    print(char) # have to include print statement for values to appear!\n",
    "# repeats action AND is not length dependent\n"
   ]
  },
  {
   "cell_type": "code",
   "execution_count": null,
   "metadata": {},
   "outputs": [],
   "source": [
    "# importing multiple data files\n",
    "import glob\n",
    "\n",
    "glob.glob(\"data/inflammation*.csv\")"
   ]
  },
  {
   "cell_type": "code",
   "execution_count": null,
   "metadata": {},
   "outputs": [],
   "source": [
    "# create a list of files (* is a wildcard)\n",
    "filenames = sorted(glob.glob(\"data/inflammation*.csv\")) # sorted to make filenames appear in numerical order\n",
    "filenames"
   ]
  },
  {
   "cell_type": "code",
   "execution_count": null,
   "metadata": {},
   "outputs": [],
   "source": [
    "# loop across all filenames\n",
    "for f in filenames:\n",
    "    print(f)\n"
   ]
  },
  {
   "cell_type": "code",
   "execution_count": null,
   "metadata": {},
   "outputs": [],
   "source": [
    "## Challenge: Are all 12 data files the same shape? (hint: write a for loop)"
   ]
  },
  {
   "cell_type": "code",
   "execution_count": null,
   "metadata": {},
   "outputs": [],
   "source": [
    "# plot average inflammation for each file in a separate plot\n",
    "import numpy\n",
    "import matplotlib\n",
    "\n",
    "filenames = sorted(glob.glob(\"data/inflammation*.csv\"))\n",
    "for f in filenames:\n",
    "    print(f)\n",
    "\n",
    "    data = numpy.loadtxt(fname=f, delimiter=\",\")\n",
    "\n",
    "    fig_ave = numpy.mean(data, axis=0)\n",
    "    ave_plot = matplotlib.pyplot.plot(fig_ave)\n",
    "    matplotlib.pyplot.show() # why is this necessary?"
   ]
  },
  {
   "cell_type": "code",
   "execution_count": null,
   "metadata": {},
   "outputs": [],
   "source": []
  }
 ],
 "metadata": {
  "kernelspec": {
   "display_name": "Python 3",
   "language": "python",
   "name": "python3"
  },
  "language_info": {
   "codemirror_mode": {
    "name": "ipython",
    "version": 3
   },
   "file_extension": ".py",
   "mimetype": "text/x-python",
   "name": "python",
   "nbconvert_exporter": "python",
   "pygments_lexer": "ipython3",
   "version": "3.6.8"
  }
 },
 "nbformat": 4,
 "nbformat_minor": 2
}
