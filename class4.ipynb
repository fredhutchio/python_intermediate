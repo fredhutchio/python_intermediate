{
 "cells": [
  {
   "cell_type": "markdown",
   "metadata": {},
   "source": [
    "# Intermediate Python: Programming\n",
    "# Class 4\n",
    "\n",
    "So far in this course,\n",
    "we've learned about different programming structures in Python to assist in automating tasks, \n",
    "and also explored ways to document and define defaults for functions.\n",
    "In today's class, \n",
    "we'll complete the course by thinking about ways we can make our functions as robust and reusable as possible.\n",
    "\n",
    "By the end of this class,\n",
    "you should be able to:\n",
    "\n",
    "- perform debugging on functions creating errors\n",
    "- understand principles of test-driven development\n",
    "- apply assertions to program defensively\n",
    "- write command-line programs for Python code\n",
    "\n",
    "## Debugging \n",
    "\n",
    "In our previous class, \n",
    "we discussed testing and validating our code.\n",
    "If you do identify a problem that either prevents the code from working,\n",
    "or that prevents the code from accomplishing the task you had in mind,\n",
    "you'll need to debug your code.\n",
    "\n",
    "> If you would like additional explanations for the concepts covered in this section, more detail is available in the original lessons from [Software Carpentry](https://swcarpentry.github.io/python-novice-inflammation/11-debugging/index.html).\n",
    "\n",
    "Debugging code associated with research analysis is particularly challenging.\n",
    "We're writing code to find out an answer to a question, \n",
    "so validating that our answers are accurate is difficult.\n",
    "\n",
    "Keeping in mind your overall goal for what the code should accomplish, \n",
    "a reasonable process for writing research software includes:\n",
    "\n",
    "- *Testing with subset data:* Use a few example data points for testing before moving on to the entire dataset.\n",
    "- *Testing with simplified data:* Use synthetic data, or subset to a simpler unit (e.g., only one chromosome instead of the entire genome.\n",
    "- *Compare to known findings:* Use well-established reports from previously published literature, specifically from model systems, to confirm your software is finding equivalent results.\n",
    "- *Check conservation laws:* Use summary statistics to confirm the number of samples included doesn't vary in unexpected ways. For example, if you are filtering out data, the number of data points should decreased rather than increase.\n",
    "- *Visualize:* Although it's difficult to compare figures in an automated way (e.g., with a computer), we can use data visualizations to confirm our assumptions are being met. In fact, we modeled this approach in earlier classes in this course.\n",
    "\n",
    "We'll generally \n",
    "With these general steps in mind,\n",
    "let's explore some specific approaches to assist in the debugging process.\n",
    "\n",
    "- *Ensure failures are consistent.* Double check that you've executed all the code that your problem code needs to run, and that you're using the data you initially intended. It's easy to blame the code for not working, when it's actually a mistake we made when trying to run it.\n",
    "- *Fail quickly and efficiently:* Minimize the time it takes to get the error to resurface, and isolate the portion of the code involved.\n",
    "- *Change one thing at a time*: Make only one alteration before testing your code again, and be rational in choosing what change to try next.\n",
    "- *Keep track of what you've done:* Don't make yourself repeat an experiment, and also be able to remember what happened when you last tried something.\n",
    "- *Ask for help:* Whether someone in your lab group, other members of your computational community, or strangers online, you might be able to save yourself a lot of time and energy by leveraging someone else's expertise. As a bonus, it's possible that framing your problem in terms someone else could understand will help you figure it out on your own!\n",
    "\n",
    "#### Challenge-debug\n",
    "\n",
    "The following code computes the Body Mass Index (BMI) of patients. \n",
    "BMI is calculated as weight in kilograms divided by the square of height in metres.\n",
    "The test results indicate all patients appear to have have unusual and identical BMIs, \n",
    "despite having different physiques. \n",
    "What suggestions do you have to improve this code?\n",
    "\n",
    "```\n",
    "patients = [[70, 1.8], [80, 1.9], [150, 1.7]]\n",
    "\n",
    "def calculate_bmi(weight, height):\n",
    "    return weight / (height ** 2)\n",
    "\n",
    "for patient in patients:\n",
    "    weight, height = patients[0]\n",
    "    bmi = calculate_bmi(height, weight)\n",
    "    print(\"Patient's BMI is: %f\" % bmi)\n",
    "```\n",
    "\n",
    "#### Challenge-pair\n",
    "\n",
    "Take one of the functions you've written for this course and deliberately introduce an error. Share that error with one of the other course participants and attempt to debug each other's errors."
   ]
  },
  {
   "cell_type": "markdown",
   "metadata": {},
   "source": [
    "## Assertions and defensive programming\n",
    "\n",
    "Understanding how to effectively debug is important for our ability to write code,\n",
    "but is also useful for protecting ourselves from making future mistakes.\n",
    "In this section, we'll explore defensive programming as a strategy to improve our effectiveness as coders.\n",
    "Defensive programming assumes that mistakes will happen,\n",
    "and provides information (via code) to guard against them.\n",
    "\n",
    "Assertions are one of the main tools we can apply in programming defensively. \n",
    "Assertions are statements assessing whether something is true at a given point in a program.\n",
    "If the statement is true, the program proceeds,\n",
    "but if it is false, Python prints a specified error message.\n",
    "\n",
    "Let's take a look at how assertions work with a simple example.\n",
    "We'll create two test datasets,\n",
    "one that includes numbers that are all positive, \n",
    "and another that includes negative numbers: "
   ]
  },
  {
   "cell_type": "code",
   "execution_count": 12,
   "metadata": {},
   "outputs": [],
   "source": [
    "numbers_pos = [1.5, 5.2, 3.5, 4.1]\n",
    "numbers_neg = [1.5, 5.2, -3.5, 4.1]"
   ]
  },
  {
   "cell_type": "markdown",
   "metadata": {},
   "source": [
    "Next, we'll write a for loop that adds the numbers together.\n",
    "\n",
    "The assertion we include here requires that all data should be positive.\n",
    "Technically, an assertion only needs state the criteria \n",
    "(e.g., `assert n > 0.0`), \n",
    "but we include a statement that makes the mistake understandable\n",
    "without having to dig into the code."
   ]
  },
  {
   "cell_type": "code",
   "execution_count": 13,
   "metadata": {},
   "outputs": [
    {
     "name": "stdout",
     "output_type": "stream",
     "text": [
      "total is: 14.299999999999999\n"
     ]
    }
   ],
   "source": [
    "total = 0.0\n",
    "for n in numbers_pos:\n",
    "    assert n > 0.0, 'Data should only contain positive values'\n",
    "    total += n\n",
    "print('total is:', total)"
   ]
  },
  {
   "cell_type": "markdown",
   "metadata": {},
   "source": [
    "The loop runs fine with `numbers_pos`, \n",
    "which we can treat like a positive control in an experimental setting.\n",
    "If we replace it with `numbers_neg`, \n",
    "though, the assertion is reported:\n",
    "\n",
    "```python\n",
    "total = 0.0\n",
    "for n in numbers_neg:\n",
    "    assert n > 0.0, 'Data should only contain positive values'\n",
    "    total += n\n",
    "print('total is:', total)\n",
    "```\n",
    "\n",
    "```python\n",
    "---------------------------------------------------------------------------\n",
    "AssertionError                            Traceback (most recent call last)\n",
    "<ipython-input-14-7c882966c113> in <module>()\n",
    "      1 total = 0.0\n",
    "      2 for n in numbers_neg:\n",
    "----> 3     assert n > 0.0, 'Data should only contain positive values'\n",
    "      4     total += n\n",
    "      5 print('total is:', total)\n",
    "\n",
    "AssertionError: Data should only contain positive values\n",
    "```\n",
    "\n",
    "We can then use this error information to help us figure out how to use the code correctly.\n",
    "While the code above is a loop, \n",
    "keep in mind that assertions are often included in functions.\n",
    "\n",
    "There are three types of assertions:\n",
    "\n",
    "- *precondition:* something that must be true at the start of the function in order for it to work correctly\n",
    "- *postcondition:* something that the function guarantees is true when it finishes\n",
    "- *invariant:* something that is always true at a particular point inside a piece of code"
   ]
  },
  {
   "cell_type": "markdown",
   "metadata": {},
   "source": [
    "## Test-drive development\n",
    "\n",
    "normal tendency is to do:\n",
    "- Write a function range_overlap.\n",
    "- Call it interactively on two or three different inputs.\n",
    "- If it produces the wrong answer, fix the function and re-run that test.\n",
    "\n",
    "better practice is to:\n",
    "- Write a short function for each test.\n",
    "- Write a range_overlap function that should pass those tests.\n",
    "- If range_overlap produces any wrong answers, fix it and re-run the test functions."
   ]
  },
  {
   "cell_type": "markdown",
   "metadata": {},
   "source": [
    "## Command-line programs"
   ]
  },
  {
   "cell_type": "code",
   "execution_count": null,
   "metadata": {},
   "outputs": [],
   "source": [
    "# switch to command line\n",
    "# download code file: http://swcarpentry.github.io/python-novice-inflammation/data/python-novice-inflammation-code.zip\n"
   ]
  }
 ],
 "metadata": {
  "kernelspec": {
   "display_name": "Python 3",
   "language": "python",
   "name": "python3"
  },
  "language_info": {
   "codemirror_mode": {
    "name": "ipython",
    "version": 3
   },
   "file_extension": ".py",
   "mimetype": "text/x-python",
   "name": "python",
   "nbconvert_exporter": "python",
   "pygments_lexer": "ipython3",
   "version": "3.6.8"
  }
 },
 "nbformat": 4,
 "nbformat_minor": 2
}
